{
 "cells": [
  {
   "cell_type": "markdown",
   "metadata": {},
   "source": [
    "# Proyecto Final DS Parte III - Hamburg\n",
    "\n",
    "Este notebook complementa el an\u00e1lisis exploratorio anterior incorporando t\u00e9cnicas de **selecci\u00f3n de caracter\u00edsticas**, un modelo supervisado de **clasificaci\u00f3n**, evaluaci\u00f3n con **m\u00e9tricas b\u00e1sicas** y conclusiones."
   ]
  },
  {
   "cell_type": "code",
   "execution_count": null,
   "metadata": {},
   "outputs": [],
   "source": [
    "import pandas as pd\n",
    "import numpy as np\n",
    "import matplotlib.pyplot as plt\n",
    "import seaborn as sns\n",
    "from sklearn.decomposition import PCA\n",
    "from sklearn.model_selection import train_test_split\n",
    "from sklearn.linear_model import LogisticRegression\n",
    "from sklearn.metrics import accuracy_score, precision_score, recall_score, f1_score, confusion_matrix, ConfusionMatrixDisplay\n",
    "\n",
    "# Cargar dataset desde GitHub (ajustar ruta seg\u00fan tu repo)\n",
    "url = 'https://raw.githubusercontent.com/gerardohamburg/CoderHouse/main/songs_normalize.csv'\n",
    "df = pd.read_csv(url)\n",
    "df.head()"
   ]
  },
  {
   "cell_type": "markdown",
   "metadata": {},
   "source": [
    "## Selecci\u00f3n de caracter\u00edsticas: PCA\n",
    "Reducimos la dimensionalidad manteniendo al menos el 90% de la varianza."
   ]
  },
  {
   "cell_type": "code",
   "execution_count": null,
   "metadata": {},
   "outputs": [],
   "source": [
    "X = df.select_dtypes(include=[np.number]).dropna(axis=1)\n",
    "y = (df['popularity'] >= df['popularity'].median()).astype(int)\n",
    "\n",
    "pca = PCA(n_components=0.90)\n",
    "X_pca = pca.fit_transform(X)\n",
    "print('Forma original:', X.shape)\n",
    "print('Forma reducida:', X_pca.shape)"
   ]
  },
  {
   "cell_type": "markdown",
   "metadata": {},
   "source": [
    "## Entrenamiento y Validaci\u00f3n\n",
    "Se utiliza una **Regresi\u00f3n Log\u00edstica** como modelo base."
   ]
  },
  {
   "cell_type": "code",
   "execution_count": null,
   "metadata": {},
   "outputs": [],
   "source": [
    "X_train, X_test, y_train, y_test = train_test_split(X_pca, y, test_size=0.2, stratify=y, random_state=42)\n",
    "\n",
    "model = LogisticRegression(max_iter=1000)\n",
    "model.fit(X_train, y_train)\n",
    "y_pred = model.predict(X_test)\n",
    "\n",
    "print('Accuracy:', accuracy_score(y_test, y_pred))\n",
    "print('Precision:', precision_score(y_test, y_pred))\n",
    "print('Recall:', recall_score(y_test, y_pred))\n",
    "print('F1 Score:', f1_score(y_test, y_pred))\n",
    "\n",
    "cm = confusion_matrix(y_test, y_pred)\n",
    "disp = ConfusionMatrixDisplay(confusion_matrix=cm)\n",
    "disp.plot(cmap='Blues')\n",
    "plt.show()"
   ]
  },
  {
   "cell_type": "markdown",
   "metadata": {},
   "source": [
    "## Conclusiones\n",
    "- PCA permiti\u00f3 reducir significativamente el n\u00famero de variables manteniendo m\u00e1s del 90% de la varianza.\n",
    "- La regresi\u00f3n log\u00edstica es un buen modelo de l\u00ednea base para clasificar popularidad.\n",
    "- Las m\u00e9tricas obtenidas muestran un balance aceptable entre precisi\u00f3n y recall.\n",
    "- Este pipeline es completamente reproducible en Colab y usa \u00fanicamente herramientas vistas en el curso."
   ]
  }
 ],
 "metadata": {
  "kernelspec": {
   "display_name": "Python 3",
   "language": "python",
   "name": "python3"
  },
  "language_info": {
   "name": "python",
   "version": "3.10"
  }
 },
 "nbformat": 4,
 "nbformat_minor": 2
}