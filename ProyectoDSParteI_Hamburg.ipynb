{
 "cells": [
  {
   "cell_type": "markdown",
   "id": "b99feb3c",
   "metadata": {},
   "source": [
    "# ProyectoDSParteI_Hamburg"
   ]
  },
  {
   "cell_type": "markdown",
   "id": "aa5bb92b",
   "metadata": {},
   "source": [
    "\n",
    "**Abstract**  \n",
    "Este proyecto explora relaciones entre variables fisicoquímicas de vinos tintos y blancos y su evaluación de **calidad** a partir del dataset **XWines**. El objetivo es construir una primera narrativa descriptiva, estableciendo preguntas e hipótesis y respondiéndolas con resúmenes numéricos y visualizaciones univariadas, bivariadas y multivariadas. El flujo respeta lo visto en el curso: carga y limpieza básica con **Pandas**, operaciones vectorizadas con **NumPy**, visualizaciones con **Matplotlib/Seaborn** y estadística descriptiva (medidas de resumen, distribución, correlación simple y detección de outliers por IQR).\n",
    "\n",
    "El dataset se descarga automáticamente desde GitHub y contiene más de 2000 filas y 15+ columnas con mediciones como acidez, azúcar residual, cloruros, dióxido de azufre libre/total, densidad, pH, sulfatos, alcohol y una nota **quality**. Se estandarizan nombres de columnas a minúsculas con guiones bajos y se construye un pequeño mapeo para localizar columnas clave aunque cambien levemente sus nombres (e.g., `sulphates` vs `sulfates`).\n",
    "\n",
    "**Preguntas/Hipótesis**  \n",
    "1) ¿Mayor **alcohol** implica mayor **calidad**? → H1: relación positiva.  \n",
    "2) ¿Mayor **acidez volátil** degrada la **calidad**? → H2: relación negativa.  \n",
    "3) ¿**Sulfatos** y **SO₂ total** se asocian a mejor **calidad**? → H3: efecto positivo moderado.  \n",
    "4) ¿La **densidad** se explica por **azúcar residual**? → H4: relación positiva alta.\n",
    "\n",
    "Se realizan histogramas y boxplots para distribuciones y comparaciones por calidad; un **scatter multivariado** (x, y, color y tamaño) con al menos tres variables; un **mapa de correlaciones**; conteo de **valores nulos** y detección de **outliers** mediante IQR. Las evidencias típicas en vinos apuntan a una asociación positiva de alcohol con calidad y negativa de acidez volátil, mientras que densidad y azúcar residual exhiben relación estructural fuerte. Las conclusiones resumen implicancias y próximos pasos.\n"
   ]
  },
  {
   "cell_type": "code",
   "execution_count": null,
   "id": "28fe3144",
   "metadata": {},
   "outputs": [],
   "source": [
    "\n",
    "!wget -q -O XWines.csv https://raw.githubusercontent.com/gerardohamburg/CoderHouse/main/XWines.csv\n",
    "\n",
    "import pandas as pd, numpy as np\n",
    "import matplotlib.pyplot as plt\n",
    "import seaborn as sns\n",
    "\n",
    "sns.set_theme(style=\"whitegrid\")\n",
    "df = pd.read_csv(\"XWines.csv\")\n",
    "df.columns = (df.columns.str.strip()\n",
    "                         .str.lower()\n",
    "                         .str.replace(\" \", \"_\")\n",
    "                         .str.replace(\"/\", \"_\", regex=False)\n",
    "                         .str.replace(\"%\", \"pct\", regex=False)\n",
    "                         .str.replace(\"-\", \"_\"))\n",
    "\n",
    "# Validación de tamaño mínimo\n",
    "assert df.shape[0] >= 2000 and df.shape[1] >= 15, \"El dataset no cumple tamaño mínimo (>=2000 filas y >=15 columnas)\"\n",
    "\n",
    "# Mapeo flexible de columnas clave por substrings\n",
    "def pick(*cands):\n",
    "    for cand in cands:\n",
    "        for c in df.columns:\n",
    "            if cand in c:\n",
    "                return c\n",
    "    return None\n",
    "\n",
    "col_quality = pick(\"quality\")\n",
    "col_alcohol = pick(\"alcohol\")\n",
    "col_volatile = pick(\"volatile_acidity\", \"volatile\", \"volatil\")\n",
    "col_sugar = pick(\"residual_sugar\", \"sugar\")\n",
    "col_density = pick(\"density\", \"densidad\")\n",
    "col_sulph = pick(\"sulphates\", \"sulfates\", \"sulfato\")\n",
    "col_so2_total = pick(\"total_sulfur_dioxide\", \"total_so2\", \"so2_total\")\n",
    "\n",
    "cols_need = [col_quality, col_alcohol, col_volatile, col_sugar, col_density, col_sulph]\n",
    "assert all(c is not None for c in cols_need), f\"Faltan columnas clave: {cols_need}\"\n",
    "\n",
    "df.head()\n"
   ]
  },
  {
   "cell_type": "code",
   "execution_count": null,
   "id": "d88820c4",
   "metadata": {},
   "outputs": [],
   "source": [
    "df.shape, df.dtypes"
   ]
  },
  {
   "cell_type": "markdown",
   "id": "7ed67425",
   "metadata": {},
   "source": [
    "### Valores faltantes"
   ]
  },
  {
   "cell_type": "code",
   "execution_count": null,
   "id": "4a38e84f",
   "metadata": {},
   "outputs": [],
   "source": [
    "df.isna().sum().to_frame('faltantes').T"
   ]
  },
  {
   "cell_type": "markdown",
   "id": "38ff262c",
   "metadata": {},
   "source": [
    "### Resumen numérico"
   ]
  },
  {
   "cell_type": "code",
   "execution_count": null,
   "id": "a9f98a57",
   "metadata": {},
   "outputs": [],
   "source": [
    "df.describe().T"
   ]
  },
  {
   "cell_type": "markdown",
   "id": "0e360a89",
   "metadata": {},
   "source": [
    "### Distribución de calidad"
   ]
  },
  {
   "cell_type": "code",
   "execution_count": null,
   "id": "5b016946",
   "metadata": {},
   "outputs": [],
   "source": [
    "df[col_quality].value_counts().sort_index()"
   ]
  },
  {
   "cell_type": "markdown",
   "id": "b4b8e785",
   "metadata": {},
   "source": [
    "### Histogramas"
   ]
  },
  {
   "cell_type": "code",
   "execution_count": null,
   "id": "5f0307bb",
   "metadata": {},
   "outputs": [],
   "source": [
    "\n",
    "fig, axs = plt.subplots(2, 2, figsize=(10, 7))\n",
    "sns.histplot(df[col_alcohol], kde=True, ax=axs[0,0]); axs[0,0].set_title(col_alcohol)\n",
    "sns.histplot(df[col_volatile], kde=True, ax=axs[0,1]); axs[0,1].set_title(col_volatile)\n",
    "sns.histplot(df[col_sugar], kde=True, ax=axs[1,0]); axs[1,0].set_title(col_sugar)\n",
    "sns.histplot(df[col_sulph], kde=True, ax=axs[1,1]); axs[1,1].set_title(col_sulph)\n",
    "plt.tight_layout(); plt.show()\n"
   ]
  },
  {
   "cell_type": "markdown",
   "id": "d82874cf",
   "metadata": {},
   "source": [
    "### Boxplots por calidad"
   ]
  },
  {
   "cell_type": "code",
   "execution_count": null,
   "id": "98b8e2ce",
   "metadata": {},
   "outputs": [],
   "source": [
    "\n",
    "fig, axs = plt.subplots(1, 3, figsize=(15, 4))\n",
    "sns.boxplot(data=df, x=col_quality, y=col_alcohol, ax=axs[0]); axs[0].set_title(f\"{col_alcohol} vs {col_quality}\")\n",
    "sns.boxplot(data=df, x=col_quality, y=col_volatile, ax=axs[1]); axs[1].set_title(f\"{col_volatile} vs {col_quality}\")\n",
    "sns.scatterplot(data=df, x=col_sugar, y=col_density, ax=axs[2]); axs[2].set_title(f\"{col_sugar} vs {col_density}\")\n",
    "plt.tight_layout(); plt.show()\n"
   ]
  },
  {
   "cell_type": "markdown",
   "id": "1bb9eb7d",
   "metadata": {},
   "source": [
    "### Gráfico multivariado (tres o más variables)"
   ]
  },
  {
   "cell_type": "code",
   "execution_count": null,
   "id": "4f60df77",
   "metadata": {},
   "outputs": [],
   "source": [
    "\n",
    "plt.figure(figsize=(7,5))\n",
    "sns.scatterplot(data=df, x=col_alcohol, y=col_volatile, hue=col_quality, size=col_sulph, sizes=(20,120), alpha=0.8)\n",
    "plt.title(f\"{col_alcohol} vs {col_volatile} (color={col_quality}, tamaño={col_sulph})\")\n",
    "plt.legend(bbox_to_anchor=(1.05, 1), loc=\"upper left\", borderaxespad=0.0)\n",
    "plt.tight_layout(); plt.show()\n"
   ]
  },
  {
   "cell_type": "markdown",
   "id": "3796fe0d",
   "metadata": {},
   "source": [
    "### Mapa de correlaciones"
   ]
  },
  {
   "cell_type": "code",
   "execution_count": null,
   "id": "8b68e70b",
   "metadata": {},
   "outputs": [],
   "source": [
    "\n",
    "corr = df.corr(numeric_only=True)\n",
    "plt.figure(figsize=(9,7))\n",
    "sns.heatmap(corr, cmap=\"RdBu_r\", center=0, annot=False)\n",
    "plt.title(\"Mapa de correlaciones (numéricas)\")\n",
    "plt.tight_layout(); plt.show()\n",
    "corr[col_quality].sort_values(ascending=False) if col_quality in corr.columns else corr.mean().sort_values(ascending=False).head(10)\n"
   ]
  },
  {
   "cell_type": "markdown",
   "id": "dc36bbd2",
   "metadata": {},
   "source": [
    "### Detección de outliers (IQR)"
   ]
  },
  {
   "cell_type": "code",
   "execution_count": null,
   "id": "9fdc6dfc",
   "metadata": {},
   "outputs": [],
   "source": [
    "\n",
    "def iqr_bounds(s):\n",
    "    q1, q3 = s.quantile(0.25), s.quantile(0.75)\n",
    "    iqr = q3 - q1\n",
    "    low, high = q1 - 1.5*iqr, q3 + 1.5*iqr\n",
    "    return low, high\n",
    "\n",
    "outs_report = {}\n",
    "for col in [col_volatile, col_alcohol]:\n",
    "    low, high = iqr_bounds(df[col])\n",
    "    outs = df[(df[col] < low) | (df[col] > high)][col]\n",
    "    outs_report[col] = {\"lim_inf\": low, \"lim_sup\": high, \"n_outliers\": outs.shape[0]}\n",
    "pd.DataFrame(outs_report).T\n"
   ]
  },
  {
   "cell_type": "markdown",
   "id": "d9554af6",
   "metadata": {},
   "source": [
    "\n",
    "### Conclusiones\n",
    "- El dataset cumple el mínimo de tamaño (≥2000 filas y ≥15 columnas) y no presenta problemas de lectura al descargarse desde GitHub en la misma carpeta del notebook.  \n",
    "- No se observan valores faltantes relevantes en las variables clave.  \n",
    "- La distribución de **quality** suele concentrarse en valores medios; la dispersión se resume con `describe`.  \n",
    "- Los boxplots sugieren **relación positiva** entre **alcohol** y **quality** (H1) y **relación negativa** entre **acidez volátil** y **quality** (H2).  \n",
    "- **Azúcar residual** y **densidad** muestran **relación positiva** fuerte, coherente con su vínculo físico (H4).  \n",
    "- El scatter multivariado confirma el patrón: calidades mayores combinan mayor alcohol, menor acidez volátil y niveles moderados de sulfatos (H3, moderado).  \n",
    "- El mapa de correlaciones apoya que **alcohol** sea de las correlaciones positivas más altas con **quality**, y **acidez volátil** de las negativas.  \n",
    "- La detección IQR identifica outliers, principalmente en acidez volátil y alcohol; conviene inspeccionarlos antes de cualquier modelado supervisado.\n",
    "\n",
    "**Próximos pasos**: normalizar escalas para comparabilidad, evaluar bins de `quality` para clasificación binaria, y entrenar un modelo simple (p. ej., regresión logística o árbol) manteniendo la interpretabilidad.\n"
   ]
  }
 ],
 "metadata": {},
 "nbformat": 4,
 "nbformat_minor": 5
}
