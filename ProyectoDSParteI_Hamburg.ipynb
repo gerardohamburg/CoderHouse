{
 "cells": [
  {
   "cell_type": "markdown",
   "id": "f8c2241a",
   "metadata": {},
   "source": [
    "# ProyectoDSParteI_Hamburg\n",
    "\n",
    "## Abstracto\n",
    "Este proyecto explora relaciones entre variables fisicoquímicas del vino tinto y la variable de calidad registrada por catadores en una escala ordinal. El objetivo es construir una primera narrativa descriptiva, establecer preguntas e hipótesis y responderlas con resúmenes numéricos y visualizaciones univariadas, bivariadas y multivariadas, siguiendo las prácticas vistas: manejo de datos con Pandas, visualización con Matplotlib/Seaborn y estadística descriptiva básica.\n",
    "\n",
    "Trabajamos con el archivo **winequality-red.csv** (muestras de vinos tintos portugueses). Las columnas incluyen acidez fija, acidez volátil, ácido cítrico, azúcar residual, cloruros, dióxido de azufre libre y total, densidad, pH, sulfatos, alcohol y una calidad global. Las preguntas guía son: ¿qué variables muestran mayor asociación con la calidad?, ¿existen patrones que sugieran mejoras en la producción?, ¿qué tan frecuentes son outliers o datos ausentes?\n",
    "\n",
    "Hipótesis de interés: **(H1)** alcohol se asocia positivamente con la calidad; **(H2)** acidez volátil se asocia negativamente con la calidad; **(H3)** sulfatos y SO₂ total pueden mejorar la calidad por su efecto antioxidante; **(H4)** densidad estará fuertemente relacionada con azúcar residual. Para validarlas, construiremos histogramas, boxplots, diagramas de dispersión con codificación por color/tamaño y un mapa de correlaciones. También cuantificamos valores ausentes y outliers mediante IQR.\n",
    "\n",
    "Los hallazgos preliminares indican que la calidad varía principalmente con alcohol (positiva) y acidez volátil (negativa), mientras que azúcar residual y densidad describen una relación fuerte entre sí, más estructural que sensorial. No se observan datos ausentes y la distribución de calidades es desequilibrada hacia valores 5–6. Estos resultados fundamentan líneas futuras: modelado supervisado simple (p. ej., regresión logística o árboles) y un análisis más fino de interacciones, manteniendo el foco en interpretabilidad y buenas prácticas visuales.\n",
    "\n",
    "## Preguntas e hipótesis\n",
    "- **P1.** ¿Mayor alcohol implica mayor calidad? **H1.** Relación positiva.\n",
    "- **P2.** ¿La acidez volátil degrada la calidad? **H2.** Relación negativa.\n",
    "- **P3.** ¿Sulfatos y SO₂ total se asocian a mejor calidad? **H3.** Efecto positivo moderado.\n",
    "- **P4.** ¿Densidad se explica por azúcar residual? **H4.** Relación positiva alta.\n"
   ]
  },
  {
   "cell_type": "code",
   "execution_count": null,
   "id": "23292b3a",
   "metadata": {},
   "outputs": [],
   "source": [
    "!wget -q -O winequality-red.csv https://raw.githubusercontent.com/gerardohamburg/CoderHouse/main/winequality-red.csv\n",
    "\n",
    "import pandas as pd, numpy as np\n",
    "import matplotlib.pyplot as plt\n",
    "import seaborn as sns\n",
    "\n",
    "sns.set_theme(style=\"whitegrid\")\n",
    "df = pd.read_csv(\"winequality-red.csv\")\n",
    "df.columns = (df.columns.str.strip().str.lower().str.replace(\" \", \"_\").str.replace(\"/\", \"_\", regex=False))"
   ]
  },
  {
   "cell_type": "code",
   "execution_count": null,
   "id": "21c2d940",
   "metadata": {},
   "outputs": [],
   "source": [
    "df.shape, df.dtypes"
   ]
  },
  {
   "cell_type": "code",
   "execution_count": null,
   "id": "33c2c8c4",
   "metadata": {},
   "outputs": [],
   "source": [
    "na = df.isna().sum().to_frame(\"faltantes\")\n",
    "na.T"
   ]
  },
  {
   "cell_type": "code",
   "execution_count": null,
   "id": "176f66d2",
   "metadata": {},
   "outputs": [],
   "source": [
    "desc = df.describe().T\n",
    "desc"
   ]
  },
  {
   "cell_type": "code",
   "execution_count": null,
   "id": "e4093166",
   "metadata": {},
   "outputs": [],
   "source": [
    "df[\"quality\"].value_counts().sort_index()"
   ]
  },
  {
   "cell_type": "code",
   "execution_count": null,
   "id": "1ceb499b",
   "metadata": {},
   "outputs": [],
   "source": [
    "fig, axs = plt.subplots(2, 2, figsize=(10, 7))\n",
    "sns.histplot(df[\"alcohol\"], kde=True, ax=axs[0,0])\n",
    "axs[0,0].set_title(\"Alcohol\")\n",
    "sns.histplot(df[\"volatile_acidity\"], kde=True, ax=axs[0,1])\n",
    "axs[0,1].set_title(\"Acidez volátil\")\n",
    "sns.histplot(df[\"residual_sugar\"], kde=True, ax=axs[1,0])\n",
    "axs[1,0].set_title(\"Azúcar residual\")\n",
    "sns.histplot(df[\"sulphates\"], kde=True, ax=axs[1,1])\n",
    "axs[1,1].set_title(\"Sulfatos\")\n",
    "plt.tight_layout()\n",
    "plt.show()"
   ]
  },
  {
   "cell_type": "code",
   "execution_count": null,
   "id": "1d4d69a4",
   "metadata": {},
   "outputs": [],
   "source": [
    "fig, axs = plt.subplots(1, 3, figsize=(15, 4))\n",
    "sns.boxplot(data=df, x=\"quality\", y=\"alcohol\", ax=axs[0])\n",
    "axs[0].set_title(\"Alcohol vs Calidad\")\n",
    "sns.boxplot(data=df, x=\"quality\", y=\"volatile_acidity\", ax=axs[1])\n",
    "axs[1].set_title(\"Acidez volátil vs Calidad\")\n",
    "sns.scatterplot(data=df, x=\"residual_sugar\", y=\"density\", ax=axs[2])\n",
    "axs[2].set_title(\"Azúcar residual vs Densidad\")\n",
    "plt.tight_layout()\n",
    "plt.show()"
   ]
  },
  {
   "cell_type": "code",
   "execution_count": null,
   "id": "e7b67670",
   "metadata": {},
   "outputs": [],
   "source": [
    "plt.figure(figsize=(7,5))\n",
    "sns.scatterplot(data=df, x=\"alcohol\", y=\"volatile_acidity\", hue=\"quality\", size=\"sulphates\", sizes=(20,120), alpha=0.8)\n",
    "plt.title(\"Alcohol vs Acidez volátil por calidad y sulfatos\")\n",
    "plt.legend(bbox_to_anchor=(1.05, 1), loc=\"upper left\", borderaxespad=0.0)\n",
    "plt.tight_layout()\n",
    "plt.show()"
   ]
  },
  {
   "cell_type": "code",
   "execution_count": null,
   "id": "445ae433",
   "metadata": {},
   "outputs": [],
   "source": [
    "corr = df.corr(numeric_only=True)\n",
    "plt.figure(figsize=(9,7))\n",
    "sns.heatmap(corr, cmap=\"RdBu_r\", center=0, annot=False)\n",
    "plt.title(\"Mapa de correlaciones\")\n",
    "plt.tight_layout()\n",
    "plt.show()\n",
    "corr[\"quality\"].sort_values(ascending=False)"
   ]
  },
  {
   "cell_type": "code",
   "execution_count": null,
   "id": "72fdf673",
   "metadata": {},
   "outputs": [],
   "source": [
    "def iqr_bounds(s):\n",
    "    q1, q3 = s.quantile(0.25), s.quantile(0.75)\n",
    "    iqr = q3 - q1\n",
    "    return q1 - 1.5*iqr, q3 + 1.5*iqr\n",
    "\n",
    "outs = {}\n",
    "for c in [\"volatile_acidity\", \"alcohol\", \"sulphates\", \"residual_sugar\"]:\n",
    "    lo, hi = iqr_bounds(df[c])\n",
    "    outs[c] = {\"low\": float(lo), \"high\": float(hi), \"n_out\": int(((df[c] < lo) | (df[c] > hi)).sum())}\n",
    "pd.DataFrame(outs).T"
   ]
  },
  {
   "cell_type": "markdown",
   "id": "021c0dd5",
   "metadata": {},
   "source": [
    "## Interpretaciones\n",
    "- No se detectan valores ausentes. La calidad se concentra en 5–6.\n",
    "- Alcohol muestra asociación positiva con calidad; acidez volátil, negativa.\n",
    "- Azúcar residual y densidad presentan relación positiva alta.\n",
    "- El scatter multivariado sugiere que vinos de mayor calidad combinan mayor alcohol con menor acidez volátil y sulfatos moderados.\n",
    "- El mapa de correlaciones ubica a alcohol como correlación positiva más alta con calidad y a acidez volátil como la más negativa.\n",
    "- IQR identifica outliers en variables como acidez volátil; conviene revisarlos antes de modelar.\n"
   ]
  }
 ],
 "metadata": {},
 "nbformat": 4,
 "nbformat_minor": 5
}
