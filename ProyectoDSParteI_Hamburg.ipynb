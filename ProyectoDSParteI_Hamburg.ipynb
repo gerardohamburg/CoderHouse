{
 "cells": [
  {
   "cell_type": "markdown",
   "id": "e0d7fae6",
   "metadata": {},
   "source": [
    "# ProyectoDSParteI_Hamburg\n",
    "\n",
    "**Abstracto**  \n",
    "Este trabajo realiza un análisis descriptivo del dataset **XWines** (muestras de vino con variables fisicoquímicas y una evaluación de calidad). El objetivo es construir una primera narrativa exploratoria que permita entender patrones básicos y validar hipótesis simples, utilizando exclusivamente contenidos vistos: Pandas para lectura y manipulación tabular, NumPy para cálculos numéricos básicos, Matplotlib/Seaborn para visualización (histogramas, boxplots, dispersión, heatmap) y estadística descriptiva (medidas de resumen, correlación).\n",
    "\n",
    "Las variables incluyen medidas como acidez fija y volátil, ácido cítrico, azúcar residual, cloruros, dióxido de azufre libre y total, densidad, pH, sulfatos, alcohol y una calificación global de calidad. Se busca responder: (i) ¿qué atributos se asocian más con la **calidad**?, (ii) ¿existen relaciones fuertes entre variables estructurales como **azúcar residual** y **densidad**?, (iii) ¿hay evidencias de outliers que ameriten tratamiento en etapas posteriores?, y (iv) ¿hay datos ausentes que condicionen el análisis?\n",
    "\n",
    "Hipótesis de interés: **H1**: *alcohol* se asocia positivamente con *quality*; **H2**: *volatile_acidity* se asocia negativamente con *quality*; **H3**: *sulphates* y *total_sulfur_dioxide* muestran asociación positiva moderada con *quality* por efectos antioxidantes; **H4**: *residual_sugar* y *density* presentan correlación positiva alta. El flujo realiza: carga del CSV desde GitHub, revisión de dtypes y nulos, resúmenes con `describe`, visualizaciones univariadas y bivariadas, un gráfico multivariado (color por calidad y tamaño por sulfatos), un mapa de correlaciones y detección de outliers con IQR.\n",
    "\n",
    "El resultado esperado es identificar señales consistentes: mayor **alcohol** y menor **acidez volátil** en vinos de mayor **calidad**, y una relación estructural entre **azúcar residual** y **densidad**. Estas conclusiones orientan pasos siguientes (modelado supervisado básico) manteniendo interpretabilidad y buenas prácticas visuales.\n"
   ]
  },
  {
   "cell_type": "markdown",
   "id": "be0f7cd9",
   "metadata": {},
   "source": [
    "## Preguntas e hipótesis\n",
    "\n",
    "- **P1:** ¿Mayor alcohol implica mayor calidad? → **H1:** relación positiva.  \n",
    "- **P2:** ¿La acidez volátil degrada la calidad? → **H2:** relación negativa.  \n",
    "- **P3:** ¿El total de SO₂ y los sulfatos se asocian a mejor calidad? → **H3:** efecto positivo moderado.  \n",
    "- **P4:** ¿La densidad se explica por el azúcar residual? → **H4:** relación positiva alta.\n"
   ]
  },
  {
   "cell_type": "code",
   "execution_count": null,
   "id": "2edd2c02",
   "metadata": {},
   "outputs": [],
   "source": [
    "!wget -q -O XWines.csv https://raw.githubusercontent.com/gerardohamburg/CoderHouse/main/XWines.csv\n",
    "\n",
    "import pandas as pd, numpy as np\n",
    "import matplotlib.pyplot as plt\n",
    "import seaborn as sns\n",
    "\n",
    "sns.set_theme(style=\"whitegrid\")\n",
    "df = pd.read_csv(\"XWines.csv\")\n",
    "df.columns = df.columns.str.strip().str.lower().str.replace(\" \", \"_\").str.replace(\"/\", \"_\", regex=False)\n"
   ]
  },
  {
   "cell_type": "code",
   "execution_count": null,
   "id": "b9e41c9e",
   "metadata": {},
   "outputs": [],
   "source": [
    "df.shape, df.dtypes"
   ]
  },
  {
   "cell_type": "code",
   "execution_count": null,
   "id": "b2c3b219",
   "metadata": {},
   "outputs": [],
   "source": [
    "na = df.isna().sum().to_frame(\"faltantes\")\n",
    "na.T"
   ]
  },
  {
   "cell_type": "code",
   "execution_count": null,
   "id": "70f78492",
   "metadata": {},
   "outputs": [],
   "source": [
    "df.describe().T"
   ]
  },
  {
   "cell_type": "code",
   "execution_count": null,
   "id": "cb624ca2",
   "metadata": {},
   "outputs": [],
   "source": [
    "df[\"quality\"].value_counts().sort_index()"
   ]
  },
  {
   "cell_type": "code",
   "execution_count": null,
   "id": "68143992",
   "metadata": {},
   "outputs": [],
   "source": [
    "fig, axs = plt.subplots(2, 2, figsize=(10, 7))\n",
    "sns.histplot(df[\"alcohol\"], kde=True, ax=axs[0,0])\n",
    "axs[0,0].set_title(\"Alcohol\")\n",
    "sns.histplot(df[\"volatile_acidity\"], kde=True, ax=axs[0,1])\n",
    "axs[0,1].set_title(\"Acidez volátil\")\n",
    "sns.histplot(df[\"residual_sugar\"], kde=True, ax=axs[1,0])\n",
    "axs[1,0].set_title(\"Azúcar residual\")\n",
    "sns.histplot(df[\"sulphates\"], kde=True, ax=axs[1,1])\n",
    "axs[1,1].set_title(\"Sulfatos\")\n",
    "plt.tight_layout()\n",
    "plt.show()"
   ]
  },
  {
   "cell_type": "code",
   "execution_count": null,
   "id": "ef419124",
   "metadata": {},
   "outputs": [],
   "source": [
    "fig, axs = plt.subplots(1, 3, figsize=(15, 4))\n",
    "sns.boxplot(data=df, x=\"quality\", y=\"alcohol\", ax=axs[0])\n",
    "axs[0].set_title(\"Alcohol vs Calidad\")\n",
    "sns.boxplot(data=df, x=\"quality\", y=\"volatile_acidity\", ax=axs[1])\n",
    "axs[1].set_title(\"Acidez volátil vs Calidad\")\n",
    "sns.scatterplot(data=df, x=\"residual_sugar\", y=\"density\", ax=axs[2])\n",
    "axs[2].set_title(\"Azúcar residual vs Densidad\")\n",
    "plt.tight_layout()\n",
    "plt.show()"
   ]
  },
  {
   "cell_type": "code",
   "execution_count": null,
   "id": "05aea779",
   "metadata": {},
   "outputs": [],
   "source": [
    "plt.figure(figsize=(7,5))\n",
    "sns.scatterplot(data=df, x=\"alcohol\", y=\"volatile_acidity\", hue=\"quality\", size=\"sulphates\", sizes=(20,120), alpha=0.8)\n",
    "plt.title(\"Alcohol vs Acidez volátil | color=Calidad, tamaño=Sulfatos\")\n",
    "plt.legend(bbox_to_anchor=(1.05, 1), loc=\"upper left\", borderaxespad=0.0)\n",
    "plt.tight_layout()\n",
    "plt.show()"
   ]
  },
  {
   "cell_type": "code",
   "execution_count": null,
   "id": "aa2b95b2",
   "metadata": {},
   "outputs": [],
   "source": [
    "corr = df.corr(numeric_only=True)\n",
    "plt.figure(figsize=(9,7))\n",
    "sns.heatmap(corr, cmap=\"RdBu_r\", center=0, annot=False)\n",
    "plt.title(\"Mapa de correlaciones\")\n",
    "plt.tight_layout()\n",
    "plt.show()\n",
    "corr[\"quality\"].sort_values(ascending=False)"
   ]
  },
  {
   "cell_type": "code",
   "execution_count": null,
   "id": "6e84e268",
   "metadata": {},
   "outputs": [],
   "source": [
    "def iqr_bounds(s):\n",
    "    q1, q3 = s.quantile(0.25), s.quantile(0.75)\n",
    "    iqr = q3 - q1\n",
    "    return q1 - 1.5*iqr, q3 + 1.5*iqr\n",
    "\n",
    "outs = {}\n",
    "for col in [\"volatile_acidity\", \"alcohol\"]:\n",
    "    low, high = iqr_bounds(df[col])\n",
    "    outs[col] = df[(df[col] < low) | (df[col] > high)][col].shape[0]\n",
    "outs"
   ]
  },
  {
   "cell_type": "markdown",
   "id": "7259713f",
   "metadata": {},
   "source": [
    "## Conclusiones\n",
    "\n",
    "- No se detectan valores ausentes relevantes si la tabla `na` arroja ceros.  \n",
    "- La distribución de **quality** suele concentrarse en valores medios.  \n",
    "- Los histogramas y boxplots sugieren: **alcohol** aumenta con **quality** y **volatile_acidity** disminuye.  \n",
    "- **residual_sugar** y **density** muestran una relación positiva fuerte.  \n",
    "- El gráfico multivariado apoya las hipótesis H1–H3: mayor **alcohol**, menor **acidez volátil** y niveles moderados de **sulphates** aparecen en vinos de mayor **calidad**.  \n",
    "- El heatmap identifica a **alcohol** como correlación positiva más alta con **quality**, y a **volatile_acidity** como la más negativa.  \n",
    "- Con IQR se identifican outliers en acidez volátil; conviene revisarlos antes de cualquier modelado supervisado.\n",
    "\n",
    "Este notebook cumple: abstract inicial, preguntas/hipótesis, visualizaciones univariadas/bivariadas/multivariadas, resúmenes numéricos, diagnóstico de nulos y detección básica de outliers, respetando únicamente contenidos del curso.\n"
   ]
  }
 ],
 "metadata": {},
 "nbformat": 4,
 "nbformat_minor": 5
}
