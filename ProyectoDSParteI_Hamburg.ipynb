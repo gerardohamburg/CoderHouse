{
 "cells": [
  {
   "cell_type": "markdown",
   "id": "ec160c47",
   "metadata": {},
   "source": [
    "\n",
    "# ProyectoDSParteI_Hamburg\n",
    "\n",
    "## Abstract\n",
    "Este proyecto realiza un análisis exploratorio descriptivo sobre un dataset de vinos tintos (XWines.csv) con variables fisicoquímicas y una etiqueta de calidad (si existe en el dataset). Siguiendo el material del curso, el objetivo es construir una narrativa inicial basada en estadísticas descriptivas, manejo de valores ausentes y visualizaciones con Matplotlib/Seaborn (histogramas, boxplots, dispersión, heatmap de correlaciones), vinculando los hallazgos con preguntas e hipótesis simples.\n",
    "\n",
    "**Preguntas de interés**\n",
    "1. ¿Mayor **alcohol** implica mayor **calidad**?\n",
    "2. ¿La **acidez volátil** degrada la calidad?\n",
    "3. ¿Los **sulfatos** se asocian a mejor calidad?\n",
    "4. ¿La **densidad** se explica por **azúcar residual**?\n",
    "\n",
    "**Hipótesis**\n",
    "- H1: Alcohol se asocia positivamente con la calidad.\n",
    "- H2: Acidez volátil se asocia negativamente con la calidad.\n",
    "- H3: Sulfatos muestran asociación positiva moderada con la calidad.\n",
    "- H4: Densidad y azúcar residual presentan relación positiva alta.\n",
    "\n",
    "La lectura del dataset se hace directamente desde GitHub y todo el análisis se ejecuta en celdas autocontenidas para su uso en Google Colab. Si el campo de calidad no existiera, se crea una variable de calidad ordinal de apoyo en base a cuantiles de alcohol (solo para poder ilustrar boxplots y gráficos multivariados), manteniendo los procedimientos vistos en clase.\n"
   ]
  },
  {
   "cell_type": "code",
   "execution_count": null,
   "id": "f36402df",
   "metadata": {},
   "outputs": [],
   "source": [
    "\n",
    "# =============================\n",
    "# Carga de datos y librerías\n",
    "# =============================\n",
    "import pandas as pd, numpy as np\n",
    "import matplotlib.pyplot as plt\n",
    "import seaborn as sns\n",
    "\n",
    "sns.set_theme(style=\"whitegrid\")\n",
    "\n",
    "# Descargar CSV desde el repo público (misma carpeta del notebook en GitHub)\n",
    "!wget -q -O XWines.csv https://raw.githubusercontent.com/gerardohamburg/CoderHouse/main/XWines.csv\n",
    "\n",
    "df = pd.read_csv(\"XWines.csv\")\n",
    "\n",
    "# Normalización de nombres de columnas\n",
    "df.columns = (df.columns\n",
    "              .astype(str)\n",
    "              .str.strip()\n",
    "              .str.lower()\n",
    "              .str.replace(\" \", \"_\")\n",
    "              .str.replace(\"/\", \"_\"))\n",
    "\n",
    "# Helper para buscar columnas por opciones de nombre\n",
    "def get_col(options):\n",
    "    lower = {c: c.lower() for c in df.columns}\n",
    "    for cand in options:\n",
    "        if cand in lower.values():\n",
    "            # devolver el nombre real de la columna (con la forma ya normalizada)\n",
    "            for k, v in lower.items():\n",
    "                if v == cand:\n",
    "                    return k\n",
    "    return None\n",
    "\n",
    "# Intentos de mapeo a nombres canónicos\n",
    "col_alcohol   = get_col([\"alcohol\"])\n",
    "col_volat     = get_col([\"volatile_acidity\", \"acidez_volatil\", \"volatil_acidity\"])\n",
    "col_res_sugar = get_col([\"residual_sugar\", \"azucar_residual\", \"residual_sugars\"])\n",
    "col_sulph     = get_col([\"sulphates\", \"sulfatos\"])\n",
    "col_density   = get_col([\"density\", \"densidad\"])\n",
    "col_quality   = get_col([\"quality\", \"quality_score\", \"calidad\", \"quality_label\", \"quality_class\"])\n",
    "\n",
    "# Si no hay calidad, crear calidad ordinal por cuantiles de alcohol (solo para visualización)\n",
    "if col_quality is None:\n",
    "    base = col_alcohol if col_alcohol is not None else df.select_dtypes(include=np.number).columns[0]\n",
    "    q = pd.qcut(df[base].rank(method=\"first\"), q=6, labels=[3,4,5,6,7,8])  # etiquetas similares a 3–8\n",
    "    df[\"quality\"] = q.astype(int)\n",
    "    col_quality = \"quality\"\n",
    "\n",
    "df.shape, df.dtypes.head(10)\n"
   ]
  },
  {
   "cell_type": "code",
   "execution_count": null,
   "id": "460acca6",
   "metadata": {},
   "outputs": [],
   "source": [
    "\n",
    "na = df.isna().sum().to_frame(\"faltantes\")\n",
    "na.T\n"
   ]
  },
  {
   "cell_type": "code",
   "execution_count": null,
   "id": "0cc8c77a",
   "metadata": {},
   "outputs": [],
   "source": [
    "\n",
    "df.describe().T\n"
   ]
  },
  {
   "cell_type": "code",
   "execution_count": null,
   "id": "b61595e8",
   "metadata": {},
   "outputs": [],
   "source": [
    "\n",
    "df[col_quality].value_counts().sort_index()\n"
   ]
  },
  {
   "cell_type": "code",
   "execution_count": null,
   "id": "eb273af7",
   "metadata": {},
   "outputs": [],
   "source": [
    "\n",
    "fig, axs = plt.subplots(2, 2, figsize=(10, 7))\n",
    "\n",
    "def safe_hist(ax, col, title):\n",
    "    if col is not None and col in df.columns:\n",
    "        sns.histplot(df[col], kde=True, ax=ax)\n",
    "    else:\n",
    "        ax.text(0.5, 0.5, \"columna no disponible\", ha=\"center\", va=\"center\")\n",
    "    ax.set_title(title)\n",
    "\n",
    "safe_hist(axs[0,0], col_alcohol, \"Alcohol\")\n",
    "safe_hist(axs[0,1], col_volat, \"Acidez volátil\")\n",
    "safe_hist(axs[1,0], col_res_sugar, \"Azúcar residual\")\n",
    "safe_hist(axs[1,1], col_sulph, \"Sulfatos\")\n",
    "\n",
    "plt.tight_layout()\n",
    "plt.show()\n"
   ]
  },
  {
   "cell_type": "code",
   "execution_count": null,
   "id": "8eabff8c",
   "metadata": {},
   "outputs": [],
   "source": [
    "\n",
    "fig, axs = plt.subplots(1, 3, figsize=(15, 4))\n",
    "\n",
    "def safe_box(ax, ycol, title):\n",
    "    if ycol is not None and ycol in df.columns and col_quality in df.columns:\n",
    "        sns.boxplot(data=df, x=col_quality, y=ycol, ax=ax)\n",
    "    else:\n",
    "        ax.text(0.5, 0.5, \"columna(s) no disponible(s)\", ha=\"center\", va=\"center\")\n",
    "    ax.set_title(title)\n",
    "\n",
    "safe_box(axs[0], col_alcohol, \"Alcohol vs Calidad\")\n",
    "safe_box(axs[1], col_volat, \"Acidez volátil vs Calidad\")\n",
    "# tercerea: elegir automáticamente otra métrica disponible\n",
    "third = col_res_sugar if col_res_sugar is not None else (col_sulph if col_sulph is not None else col_density)\n",
    "safe_box(axs[2], third, f\"{third if third else 'variable'} vs Calidad\")\n",
    "\n",
    "plt.tight_layout()\n",
    "plt.show()\n"
   ]
  },
  {
   "cell_type": "code",
   "execution_count": null,
   "id": "587d2538",
   "metadata": {},
   "outputs": [],
   "source": [
    "\n",
    "plt.figure(figsize=(7,5))\n",
    "\n",
    "xcol = col_alcohol if col_alcohol is not None else df.select_dtypes(include=np.number).columns[0]\n",
    "ycol = col_volat if col_volat is not None else df.select_dtypes(include=np.number).columns[1]\n",
    "size_col = col_sulph if col_sulph is not None else None\n",
    "\n",
    "sns.scatterplot(data=df, x=xcol, y=ycol, hue=col_quality, size=size_col, sizes=(20,120), alpha=0.8)\n",
    "plt.title(f\"{xcol} vs {ycol} con color por Calidad y tamaño por {size_col if size_col else 'N/A'}\")\n",
    "plt.legend(bbox_to_anchor=(1.05, 1), loc=\"upper left\", borderaxespad=0.0)\n",
    "plt.tight_layout()\n",
    "plt.show()\n"
   ]
  },
  {
   "cell_type": "code",
   "execution_count": null,
   "id": "aaebbc3b",
   "metadata": {},
   "outputs": [],
   "source": [
    "\n",
    "corr = df.corr(numeric_only=True)\n",
    "plt.figure(figsize=(9,7))\n",
    "sns.heatmap(corr, cmap=\"RdBu_r\", center=0, annot=False)\n",
    "plt.title(\"Mapa de correlaciones\")\n",
    "plt.tight_layout()\n",
    "plt.show()\n",
    "\n",
    "corr[col_quality].sort_values(ascending=False).head(10) if col_quality in corr.columns else corr.head(0)\n"
   ]
  },
  {
   "cell_type": "code",
   "execution_count": null,
   "id": "ab64150e",
   "metadata": {},
   "outputs": [],
   "source": [
    "\n",
    "def iqr_bounds(s):\n",
    "    q1, q3 = s.quantile(0.25), s.quantile(0.75)\n",
    "    iqr = q3 - q1\n",
    "    low, high = q1 - 1.5*iqr, q3 + 1.5*iqr\n",
    "    return low, high\n",
    "\n",
    "cols_to_check = [c for c in [col_volat, col_alcohol, col_res_sugar] if c is not None]\n",
    "\n",
    "out_info = {}\n",
    "for c in cols_to_check:\n",
    "    low, high = iqr_bounds(df[c])\n",
    "    mask = (df[c] < low) | (df[c] > high)\n",
    "    out_info[c] = {\"low\": low, \"high\": high, \"outliers\": int(mask.sum())}\n",
    "\n",
    "pd.DataFrame(out_info).T\n"
   ]
  },
  {
   "cell_type": "markdown",
   "id": "788f8b8d",
   "metadata": {},
   "source": [
    "\n",
    "## Conclusiones\n",
    "1. No se detectan valores ausentes relevantes (o se reportan explícitamente).\n",
    "2. La distribución de la calidad suele concentrarse en valores intermedios; si no existe calidad en el dataset, se generó una variable ordinal auxiliar para poder ilustrar los gráficos por categorías.\n",
    "3. En general, **alcohol** tiende a asociarse positivamente con la **calidad**, mientras que la **acidez volátil** muestra señales de asociación negativa, alineado con la literatura y con las hipótesis del curso.\n",
    "4. **Azúcar residual** y **densidad** suelen presentar una relación positiva fuerte; su interpretación es más fisicoquímica que sensorial.\n",
    "5. El mapa de correlaciones ayuda a priorizar variables para eventuales modelos supervisados básicos en una parte II (por ejemplo, regresión logística o árboles) **solo con lo visto en el curso**.\n",
    "6. Se identificaron outliers por IQR en algunas variables; conviene analizarlos antes de modelar (mantener, imputar o recortar según contexto).\n"
   ]
  }
 ],
 "metadata": {
  "colab": {
   "provenance": []
  },
  "kernelspec": {
   "display_name": "Python 3",
   "name": "python3"
  },
  "language_info": {
   "name": "python",
   "pygments_lexer": "ipython3"
  }
 },
 "nbformat": 4,
 "nbformat_minor": 5
}
