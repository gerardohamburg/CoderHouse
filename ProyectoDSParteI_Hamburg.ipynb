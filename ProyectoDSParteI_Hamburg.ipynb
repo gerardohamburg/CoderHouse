{
 "cells": [
  {
   "cell_type": "markdown",
   "id": "43f3cf18",
   "metadata": {},
   "source": [
    "\n",
    "# ProyectoDSParteI_Hamburg\n",
    "\n",
    "## Abstract\n",
    "\n",
    "El presente proyecto tiene como objetivo realizar un análisis exploratorio de datos (EDA) sobre el dataset **Winequality-red.csv**, \n",
    "el cual contiene información físico-química y sensorial de diferentes vinos tintos portugueses. A través de este análisis se pretende\n",
    "identificar patrones y relaciones relevantes entre variables, que permitan entender qué factores influyen en la calidad del vino.\n",
    "\n",
    "Para ello, se plantean las siguientes hipótesis:\n",
    "1. Las características químicas como la acidez volátil y el contenido de alcohol tienen un impacto significativo en la calidad del vino.\n",
    "2. Existe correlación entre ciertas variables fisicoquímicas y la calidad sensorial asignada.\n",
    "3. Los vinos de mayor calidad presentan distribuciones diferentes en algunas variables clave frente a vinos de menor calidad.\n",
    "\n",
    "El análisis incluye visualizaciones univariadas, bivariadas y multivariadas, así como métricas numéricas que respaldan las observaciones.\n",
    "También se identifican valores ausentes y se evalúa la distribución de las variables para proponer mejoras en la preparación de datos\n",
    "de cara a modelos de machine learning futuros.\n",
    "\n"
   ]
  },
  {
   "cell_type": "code",
   "execution_count": null,
   "id": "4f605553",
   "metadata": {},
   "outputs": [],
   "source": [
    "\n",
    "import pandas as pd\n",
    "import matplotlib.pyplot as plt\n",
    "import seaborn as sns\n",
    "\n",
    "# Cargar el dataset (asegurarse de que 'winequality-red.csv' esté en la misma carpeta que este notebook)\n",
    "df = pd.read_csv('winequality-red.csv', sep=';')\n",
    "df.head()\n"
   ]
  },
  {
   "cell_type": "code",
   "execution_count": null,
   "id": "df438b21",
   "metadata": {},
   "outputs": [],
   "source": [
    "\n",
    "df.info()\n",
    "df.describe()\n"
   ]
  },
  {
   "cell_type": "code",
   "execution_count": null,
   "id": "e0ec338b",
   "metadata": {},
   "outputs": [],
   "source": [
    "\n",
    "df.isnull().sum()\n"
   ]
  },
  {
   "cell_type": "code",
   "execution_count": null,
   "id": "343d9a92",
   "metadata": {},
   "outputs": [],
   "source": [
    "\n",
    "# Histograma de la variable 'alcohol'\n",
    "plt.figure(figsize=(8,5))\n",
    "sns.histplot(df['alcohol'], kde=True, bins=20)\n",
    "plt.title('Distribución de Alcohol')\n",
    "plt.show()\n"
   ]
  },
  {
   "cell_type": "code",
   "execution_count": null,
   "id": "7de6d956",
   "metadata": {},
   "outputs": [],
   "source": [
    "\n",
    "# Relación entre alcohol y calidad\n",
    "plt.figure(figsize=(8,5))\n",
    "sns.boxplot(x='quality', y='alcohol', data=df)\n",
    "plt.title('Alcohol vs Calidad')\n",
    "plt.show()\n"
   ]
  },
  {
   "cell_type": "code",
   "execution_count": null,
   "id": "f41429d5",
   "metadata": {},
   "outputs": [],
   "source": [
    "\n",
    "# Mapa de calor de correlaciones\n",
    "plt.figure(figsize=(10,8))\n",
    "sns.heatmap(df.corr(), annot=True, cmap='coolwarm')\n",
    "plt.title('Mapa de Calor de Correlaciones')\n",
    "plt.show()\n"
   ]
  },
  {
   "cell_type": "markdown",
   "id": "3a015d8a",
   "metadata": {},
   "source": [
    "\n",
    "### Interpretaciones\n",
    "\n",
    "- Se observa que la variable **alcohol** tiende a tener valores más altos en vinos con mejor calificación de calidad.\n",
    "- El mapa de calor muestra correlaciones positivas entre el alcohol y la calidad, y correlaciones negativas entre la acidez volátil y la calidad.\n",
    "- No se detectaron valores nulos en el dataset.\n"
   ]
  }
 ],
 "metadata": {},
 "nbformat": 4,
 "nbformat_minor": 5
}
