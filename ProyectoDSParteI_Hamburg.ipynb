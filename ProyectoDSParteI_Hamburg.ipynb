{
 "cells": [
  {
   "cell_type": "markdown",
   "id": "d551377c",
   "metadata": {},
   "source": [
    "# ProyectoDSParteI_Hamburg\n",
    "\n",
    "## Abstract\n",
    "\n",
    "Este proyecto realiza un Análisis Exploratorio de Datos (EDA) sobre canciones populares utilizando el archivo **songs_normalize.csv**. El objetivo es comprender cómo se relacionan variables musicales cuantitativas con indicadores de desempeño, tomando como referencia la métrica de **popularidad** cuando esté disponible. El análisis se limita estrictamente a los contenidos vistos en el curso: carga de datos con Pandas, estadísticas descriptivas, tratamiento de datos ausentes, visualizaciones con Matplotlib/Seaborn (histogramas, boxplots, gráficos de dispersión, mapa de correlaciones) y detección de outliers mediante el criterio IQR. No se incluyen técnicas avanzadas ni bibliotecas fuera del programa.\n",
    "\n",
    "El conjunto de datos contiene características típicas de audio tales como **energy**, **danceability**, **acousticness**, **valence**, **tempo/BPM**, **loudness**, **duration** y metadatos como **año de lanzamiento**. A partir de estas variables se construye una narrativa descriptiva para responder preguntas guía sobre patrones y asociaciones. La preparación se limita a la estandarización de nombres de columnas y a la comprobación de datos faltantes. Las visualizaciones se diseñan bajo los principios de buena comunicación: títulos, ejes y leyendas claras y un estilo coherente con Seaborn.\n",
    "\n",
    "El trabajo propone hipótesis sobre la relación entre energía y bailabilidad con la popularidad, la influencia de la duración y del tempo, y posibles vínculos entre modo afectivo (valence) y recepción del público. Para contrastarlas se utilizan histogramas para entender distribuciones univariadas, boxplots para comparar grupos por **año** (en décadas) y gráficos multivariados que combinan color y tamaño para incorporar una tercera o cuarta variable. Finalmente, un **heatmap** de correlaciones resume la asociación lineal entre métricas, mientras que el IQR permite identificar observaciones atípicas que podrían sesgar análisis posteriores.\n",
    "\n",
    "Los hallazgos permiten priorizar variables con mayor poder explicativo preliminar y ofrecen una base sólida para fases futuras del proyecto, como la selección de características y la construcción de modelos supervisados básicos. Este documento es autónomo, reproducible en Google Colab y 100% consistente con los contenidos del curso.\n"
   ]
  },
  {
   "cell_type": "markdown",
   "id": "ac961151",
   "metadata": {},
   "source": [
    "## Preguntas e hipótesis\n",
    "\n",
    "**P1.** ¿Canciones con mayor *energy* tienden a ser más populares?  \n",
    "**H1.** La relación entre *energy* y *popularidad* es **positiva**.\n",
    "\n",
    "**P2.** ¿La *danceability* se asocia con la popularidad?  \n",
    "**H2.** La relación entre *danceability* y *popularidad* es **positiva**.\n",
    "\n",
    "**P3.** ¿El *tempo/BPM* y la *duración* influyen en la popularidad?  \n",
    "**H3.** Tempos medios y duraciones moderadas tenderían a puntajes de popularidad más altos.\n",
    "\n",
    "**P4.** ¿El *valence* (color emocional) se refleja en la recepción del público?  \n",
    "**H4.** *Valence* tiene una **asociación moderada** con la popularidad.\n"
   ]
  },
  {
   "cell_type": "code",
   "execution_count": null,
   "id": "49d3cb0f",
   "metadata": {},
   "outputs": [],
   "source": [
    "import pandas as pd\n",
    "import numpy as np\n",
    "import matplotlib.pyplot as plt\n",
    "import seaborn as sns\n",
    "\n",
    "sns.set_theme(style=\"whitegrid\")\n"
   ]
  },
  {
   "cell_type": "code",
   "execution_count": null,
   "id": "bd6625c8",
   "metadata": {},
   "outputs": [],
   "source": [
    "url = \"https://raw.githubusercontent.com/gerardohamburg/CoderHouse/main/songs_normalize.csv\"\n",
    "df = pd.read_csv(url)\n",
    "df.columns = (df.columns\n",
    "              .str.strip()\n",
    "              .str.lower()\n",
    "              .str.replace(\" \", \"_\"))\n",
    "\n",
    "df.shape, df.dtypes.head()\n"
   ]
  },
  {
   "cell_type": "markdown",
   "id": "73256785",
   "metadata": {},
   "source": [
    "### Exploración inicial y valores ausentes"
   ]
  },
  {
   "cell_type": "code",
   "execution_count": null,
   "id": "9b8c4855",
   "metadata": {},
   "outputs": [],
   "source": [
    "na = df.isna().sum().to_frame(\"faltantes\")\n",
    "na.T\n"
   ]
  },
  {
   "cell_type": "markdown",
   "id": "f91a0664",
   "metadata": {},
   "source": [
    "### Resúmenes numéricos"
   ]
  },
  {
   "cell_type": "code",
   "execution_count": null,
   "id": "753b2384",
   "metadata": {},
   "outputs": [],
   "source": [
    "desc = df.select_dtypes(include=\"number\").describe().T\n",
    "desc\n"
   ]
  },
  {
   "cell_type": "markdown",
   "id": "57befc16",
   "metadata": {},
   "source": [
    "### Selección de variables"
   ]
  },
  {
   "cell_type": "code",
   "execution_count": null,
   "id": "1e60c34a",
   "metadata": {},
   "outputs": [],
   "source": [
    "def pick(cols):\n",
    "    for c in cols:\n",
    "        if c in df.columns:\n",
    "            return c\n",
    "\n",
    "col_pop = pick([\"popularity\",\"target\",\"streams\"])\n",
    "col_energy = pick([\"energy\"])\n",
    "col_dance = pick([\"danceability\"])\n",
    "col_valence = pick([\"valence\"])\n",
    "col_tempo = pick([\"tempo\",\"bpm\"])\n",
    "col_loud = pick([\"loudness\",\"loudness_db\"])\n",
    "col_dur = pick([\"duration_ms\",\"duration\",\"duration_s\"])\n",
    "col_year = pick([\"released_year\",\"year\",\"release_year\",\"release_years\",\"year_released\"])\n",
    "\n",
    "sel_nums = [c for c in [col_pop,col_energy,col_dance,col_valence,col_tempo,col_loud,col_dur] if c]\n",
    "df[sel_nums].head()\n"
   ]
  },
  {
   "cell_type": "markdown",
   "id": "491408b3",
   "metadata": {},
   "source": [
    "## Visualizaciones univariadas"
   ]
  },
  {
   "cell_type": "code",
   "execution_count": null,
   "id": "4317b1fb",
   "metadata": {},
   "outputs": [],
   "source": [
    "targets = [col_pop, col_energy, col_dance]\n",
    "targets = [c for c in targets if c]\n",
    "n = len(targets)\n",
    "fig, axs = plt.subplots(1, n, figsize=(5*n, 4))\n",
    "if n == 1:\n",
    "    axs = [axs]\n",
    "for ax, c in zip(axs, targets):\n",
    "    sns.histplot(df[c], kde=True, ax=ax)\n",
    "    ax.set_title(c)\n",
    "plt.tight_layout()\n",
    "plt.show()\n"
   ]
  },
  {
   "cell_type": "markdown",
   "id": "130e5086",
   "metadata": {},
   "source": [
    "## Boxplots por grupos (año binned)"
   ]
  },
  {
   "cell_type": "code",
   "execution_count": null,
   "id": "bd141130",
   "metadata": {},
   "outputs": [],
   "source": [
    "if col_year and col_pop:\n",
    "    dec = (df[col_year]//10)*10\n",
    "    df_plot = df.assign(decade=dec)\n",
    "    fig, axs = plt.subplots(1, min(3, len([x for x in [col_pop,col_energy,col_dance,col_valence] if x])), figsize=(14,4))\n",
    "    cols_to_plot = [x for x in [col_pop,col_energy,col_dance,col_valence] if x][:len(axs)]\n",
    "    for ax, c in zip(axs, cols_to_plot):\n",
    "        sns.boxplot(data=df_plot, x=\"decade\", y=c, ax=ax)\n",
    "        ax.set_xlabel(\"decade\")\n",
    "        ax.set_title(f\"{c} por década\")\n",
    "    plt.tight_layout()\n",
    "    plt.show()\n"
   ]
  },
  {
   "cell_type": "markdown",
   "id": "6ded48ff",
   "metadata": {},
   "source": [
    "## Visualizaciones bivariadas y multivariadas"
   ]
  },
  {
   "cell_type": "code",
   "execution_count": null,
   "id": "d1ebc320",
   "metadata": {},
   "outputs": [],
   "source": [
    "x = col_energy if col_energy else sel_nums[0]\n",
    "y = col_dance if col_dance else sel_nums[1] if len(sel_nums)>1 else sel_nums[0]\n",
    "h = None\n",
    "if col_pop:\n",
    "    try:\n",
    "        h = pd.qcut(df[col_pop], q=4, labels=[\"Q1\",\"Q2\",\"Q3\",\"Q4\"])\n",
    "    except Exception:\n",
    "        h = df[col_pop]\n",
    "s = col_tempo if col_tempo else None\n",
    "\n",
    "plt.figure(figsize=(7,5))\n",
    "sns.scatterplot(x=df[x], y=df[y], hue=h, size=df[s] if s else None, sizes=(20,140), alpha=0.8)\n",
    "plt.xlabel(x); plt.ylabel(y)\n",
    "plt.title(\"Dispersión multivariada\")\n",
    "plt.tight_layout()\n",
    "plt.show()\n"
   ]
  },
  {
   "cell_type": "markdown",
   "id": "bb43b0b9",
   "metadata": {},
   "source": [
    "## Mapa de correlaciones"
   ]
  },
  {
   "cell_type": "code",
   "execution_count": null,
   "id": "79dfa264",
   "metadata": {},
   "outputs": [],
   "source": [
    "corr = df.select_dtypes(include=\"number\").corr(numeric_only=True)\n",
    "plt.figure(figsize=(10,7))\n",
    "sns.heatmap(corr, cmap=\"RdBu_r\", center=0)\n",
    "plt.title(\"Correlaciones\")\n",
    "plt.tight_layout()\n",
    "plt.show()\n",
    "\n",
    "corr[col_pop].sort_values(ascending=False).head(10) if col_pop in corr.columns else corr.iloc[0:0]\n"
   ]
  },
  {
   "cell_type": "markdown",
   "id": "b4520736",
   "metadata": {},
   "source": [
    "## Detección visual de outliers (IQR)"
   ]
  },
  {
   "cell_type": "code",
   "execution_count": null,
   "id": "af579958",
   "metadata": {},
   "outputs": [],
   "source": [
    "def iqr_bounds(s):\n",
    "    q1, q3 = s.quantile(0.25), s.quantile(0.75)\n",
    "    iqr = q3 - q1\n",
    "    return q1 - 1.5*iqr, q3 + 1.5*iqr\n",
    "\n",
    "cols_check = [c for c in [col_energy,col_dance,col_tempo,col_loud,col_dur,col_valence,col_pop] if c]\n",
    "out_counts = {}\n",
    "for c in cols_check:\n",
    "    lo, hi = iqr_bounds(df[c].dropna())\n",
    "    out_counts[c] = int(((df[c] < lo) | (df[c] > hi)).sum())\n",
    "pd.Series(out_counts, name=\"outliers_IQR\").sort_values(ascending=False)\n"
   ]
  },
  {
   "cell_type": "markdown",
   "id": "8f2dfc93",
   "metadata": {},
   "source": [
    "## Conclusiones\n",
    "\n",
    "1. No se observan problemas de datos ausentes relevantes en las variables numéricas principales del conjunto.  \n",
    "2. Las distribuciones univariadas muestran la escala y la dispersión típica de métricas de audio como **energy** y **danceability**; la **popularidad**, cuando está disponible, presenta asimetrías esperables por concentración de éxitos.  \n",
    "3. Los boxplots por década sugieren que algunas métricas varían en el tiempo; esto ayuda a contextualizar comparaciones y a evitar confundir efectos de época con asociaciones entre variables.  \n",
    "4. La dispersión multivariada apoya las hipótesis **H1** y **H2** de asociación positiva entre **energy**, **danceability** y **popularidad**; la fuerza del patrón puede cambiar según el período o subgénero.  \n",
    "5. El mapa de correlaciones ayuda a priorizar variables para modelado posterior; típicamente aparecen asociaciones entre pares como **energy–loudness** y **tempo–duration** más débiles.  \n",
    "6. La detección IQR identifica observaciones extremas que conviene revisar antes de modelar para evitar sesgos o métricas inestables.\n",
    "\n",
    "Estos resultados son coherentes con los contenidos del curso y dejan listo el terreno para una fase de modelado supervisado básico, siempre manteniendo la trazabilidad con las visualizaciones y resúmenes numéricos producidos aquí.\n"
   ]
  }
 ],
 "metadata": {},
 "nbformat": 4,
 "nbformat_minor": 5
}
