{
 "cells": [
  {
   "cell_type": "markdown",
   "id": "19a2440a",
   "metadata": {},
   "source": [
    "\n",
    "# Proyecto DS – Parte I (Visualizaciones en Python)\n",
    "\n",
    "## Abstract\n",
    "Este proyecto utiliza el dataset **Winequality-red.csv** (conjunto clásico del dominio enológico) para explorar la relación entre atributos fisicoquímicos del vino tinto y su **calidad** sensorial (variable objetivo ordinal). El objetivo es aplicar un **Análisis Exploratorio de Datos (EDA)** siguiendo las prácticas vistas en el curso: lectura con **Pandas**, tratamiento básico de **datos ausentes**, generación de **resúmenes numéricos** y **visualizaciones** con **Matplotlib** (univariadas, bivariadas y multivariadas), y contrastar resultados con **preguntas e hipótesis** explícitas.\n",
    "\n",
    "El dataset contiene mediciones como **acidez volátil**, **ácido cítrico**, **azúcares residuales**, **cloruros**, **dióxido de azufre libre/total**, **densidad**, **pH**, **sulfatos**, **alcohol**, y una calificación de **calidad** asignada por catadores. La **motivación** es entender qué propiedades se asocian con mayores calificaciones y qué patrones emergen en la distribución de los atributos. Desde la perspectiva de **Industria 4.0** y **estrategias data-driven**, esta exploración ilustra cómo los datos permiten **mejorar decisiones** (p. ej., control de proceso) mediante **métricas descriptivas** y visualizaciones adecuadas.\n",
    "\n",
    "Planteamos hipótesis inspiradas en conocimiento de dominio y criterios analíticos: (H1) **mayor alcohol** se asocia positivamente con **mayor calidad**; (H2) **menor acidez volátil** se asocia con mayor calidad; (H3) **azúcares residuales** muestran **relación débil** con la calidad; (H4) combinaciones multivariadas (alcohol–acidez volátil–sulfatos) podrían explicar mejor la variabilidad que relaciones bivariadas aisladas. Para contrastarlas utilizaremos histogramas, boxplots, diagramas de dispersión y una matriz de correlaciones, junto con **medidas de resumen** (media, mediana, IQR, desviación estándar).\n",
    "\n",
    "Los resultados esperados son: identificar **tendencias** (p. ej., alcohol ↑ → calidad ↑), **patrones de dispersión** y potenciales **outliers** (a tratar de forma informada), además de cuantificar asociaciones lineales mediante **correlación**. Finalmente, se discuten **implicancias prácticas** (p. ej., qué variables monitorear) y **limitaciones** (posible asimetría, multicolinealidad y naturaleza ordinal de la calidad). Este trabajo sienta las bases para etapas posteriores del ciclo de un **modelo analítico**: selección de variables, validación e incluso **modelos supervisados** en futuras iteraciones.\n"
   ]
  },
  {
   "cell_type": "markdown",
   "id": "8311d99e",
   "metadata": {},
   "source": [
    "\n",
    "## Preguntas e hipótesis de interés\n",
    "**P1.** ¿Cómo se distribuyen los principales atributos fisicoquímicos (alcohol, acidez volátil, pH, sulfatos)?  \n",
    "**P2.** ¿Existe relación **bivariada** entre *alcohol* y *calidad*? ¿y entre *acidez volátil* y *calidad*?  \n",
    "**P3.** ¿Una **combinación multivariada** (p. ej., alcohol–acidez volátil–sulfatos) ofrece mejor diagnóstico que mirar variables por separado?  \n",
    "**P4.** ¿Hay **valores ausentes** o atípicos a considerar para etapas posteriores?  \n",
    "\n",
    "**Hipótesis:**  \n",
    "- **H1:** A mayor **alcohol**, mayor **calidad**.  \n",
    "- **H2:** A menor **acidez volátil**, mayor **calidad**.  \n",
    "- **H3:** **Azúcares residuales** muestran asociación débil con la calidad.  \n",
    "- **H4:** El trinomio **alcohol–acidez volátil–sulfatos** resume mejor la variabilidad observada.\n"
   ]
  },
  {
   "cell_type": "code",
   "execution_count": null,
   "id": "58077164",
   "metadata": {},
   "outputs": [],
   "source": [
    "import pandas as pd\n",
    "CSV_URL = \"https://raw.githubusercontent.com/gerardohamburg/CoderHouse/main/winequality-red.csv\"\n",
    "df = pd.read_csv(CSV_URL, sep=';')"
   ]
  },
  {
   "cell_type": "code",
   "execution_count": null,
   "id": "5d742750",
   "metadata": {},
   "outputs": [],
   "source": [
    "\n",
    "# =========================\n",
    "# Estructura y valores ausentes\n",
    "# =========================\n",
    "print(\"\\nTipos de datos:\\n\", df.dtypes)\n",
    "print(\"\\nValores ausentes por columna:\\n\", df.isnull().sum())\n",
    "\n",
    "# % de ausentes\n",
    "na_pct = df.isnull().mean().sort_values(ascending=False) * 100\n",
    "display(pd.DataFrame({\"porc_ausentes\": na_pct}).T)\n"
   ]
  },
  {
   "cell_type": "code",
   "execution_count": null,
   "id": "1c0f7ec0",
   "metadata": {},
   "outputs": [],
   "source": [
    "\n",
    "# =========================\n",
    "# Resúmenes numéricos\n",
    "# =========================\n",
    "desc = df.describe().T\n",
    "display(desc)\n",
    "\n",
    "# Medidas adicionales de dispersión y forma si se requieren\n",
    "iqr = (df.quantile(0.75) - df.quantile(0.25)).rename(\"IQR\")\n",
    "resume = desc.join(iqr, how=\"left\")\n",
    "display(resume)\n"
   ]
  },
  {
   "cell_type": "markdown",
   "id": "17cd72e1",
   "metadata": {},
   "source": [
    "\n",
    "## Visualizaciones univariadas\n",
    "A continuación, histogramas para variables clave (alcohol, acidez volátil, pH, sulfatos) para responder **P1** y contextualizar **H1** y **H2**.\n"
   ]
  },
  {
   "cell_type": "code",
   "execution_count": null,
   "id": "aee9f55c",
   "metadata": {},
   "outputs": [],
   "source": [
    "\n",
    "# Histograms (Matplotlib, sin estilos específicos)\n",
    "vars_uni = [\"alcohol\", \"volatile acidity\", \"pH\", \"sulphates\"]\n",
    "fig, axes = plt.subplots(2, 2, figsize=(10, 6))\n",
    "axes = axes.ravel()\n",
    "\n",
    "for ax, col in zip(axes, vars_uni):\n",
    "    if col in df.columns:\n",
    "        ax.hist(df[col].dropna(), bins=30)\n",
    "        ax.set_title(col)\n",
    "        ax.set_xlabel(col)\n",
    "        ax.set_ylabel(\"Frecuencia\")\n",
    "    else:\n",
    "        ax.text(0.5, 0.5, f\"{col} no encontrado\", ha=\"center\")\n",
    "plt.tight_layout()\n",
    "plt.show()\n"
   ]
  },
  {
   "cell_type": "markdown",
   "id": "99d0b079",
   "metadata": {},
   "source": [
    "\n",
    "**Interpretación (univariado).**  \n",
    "- **alcohol**: distribuciones con sesgo moderado pueden anticipar relación positiva con **quality** (apoya **H1**).  \n",
    "- **volatile acidity**: valores más altos suelen percibirse negativamente (posible relación inversa con **quality**, apoya **H2**).  \n",
    "- **pH** y **sulphates** permiten contexto sobre acidez y estructura; observar asimetrías y rango.\n"
   ]
  },
  {
   "cell_type": "markdown",
   "id": "2dc58e04",
   "metadata": {},
   "source": [
    "\n",
    "## Visualizaciones bivariadas\n",
    "Para **P2**, contrastamos **alcohol vs. quality** y **volatile acidity vs. quality** con dispersión y boxplots por categoría de calidad.\n"
   ]
  },
  {
   "cell_type": "code",
   "execution_count": null,
   "id": "e918e40b",
   "metadata": {},
   "outputs": [],
   "source": [
    "\n",
    "# Dispersión: alcohol vs. quality y volatile acidity vs. quality\n",
    "fig, axes = plt.subplots(1, 2, figsize=(12, 4))\n",
    "\n",
    "if \"alcohol\" in df.columns and \"quality\" in df.columns:\n",
    "    axes[0].scatter(df[\"alcohol\"], df[\"quality\"])\n",
    "    axes[0].set_xlabel(\"alcohol\")\n",
    "    axes[0].set_ylabel(\"quality\")\n",
    "    axes[0].set_title(\"Alcohol vs Quality\")\n",
    "\n",
    "if \"volatile acidity\" in df.columns and \"quality\" in df.columns:\n",
    "    axes[1].scatter(df[\"volatile acidity\"], df[\"quality\"])\n",
    "    axes[1].set_xlabel(\"volatile acidity\")\n",
    "    axes[1].set_ylabel(\"quality\")\n",
    "    axes[1].set_title(\"Volatile Acidity vs Quality\")\n",
    "\n",
    "plt.tight_layout()\n",
    "plt.show()\n",
    "\n",
    "# Boxplots por categoría de calidad\n",
    "fig, axes = plt.subplots(1, 2, figsize=(12, 4))\n",
    "if \"quality\" in df.columns and \"alcohol\" in df.columns:\n",
    "    # Preparamos listas por clase de calidad\n",
    "    groups = [df.loc[df[\"quality\"]==q, \"alcohol\"].dropna() for q in sorted(df[\"quality\"].unique())]\n",
    "    axes[0].boxplot(groups, positions=sorted(df[\"quality\"].unique()))\n",
    "    axes[0].set_xlabel(\"quality\")\n",
    "    axes[0].set_ylabel(\"alcohol\")\n",
    "    axes[0].set_title(\"Alcohol por Quality\")\n",
    "\n",
    "if \"quality\" in df.columns and \"volatile acidity\" in df.columns:\n",
    "    groups2 = [df.loc[df[\"quality\"]==q, \"volatile acidity\"].dropna() for q in sorted(df[\"quality\"].unique())]\n",
    "    axes[1].boxplot(groups2, positions=sorted(df[\"quality\"].unique()))\n",
    "    axes[1].set_xlabel(\"quality\")\n",
    "    axes[1].set_ylabel(\"volatile acidity\")\n",
    "    axes[1].set_title(\"Volatile Acidity por Quality\")\n",
    "\n",
    "plt.tight_layout()\n",
    "plt.show()\n"
   ]
  },
  {
   "cell_type": "markdown",
   "id": "e632509f",
   "metadata": {},
   "source": [
    "\n",
    "**Interpretación (bivariado).**  \n",
    "- **H1:** Tendencia creciente de **quality** con **alcohol** respalda la hipótesis si se observa pendiente positiva y medianas más altas en boxplots.  \n",
    "- **H2:** **volatile acidity** con pendiente negativa y medianas más altas en calidades bajas apoyaría la relación inversa esperada.\n"
   ]
  },
  {
   "cell_type": "markdown",
   "id": "54290659",
   "metadata": {},
   "source": [
    "\n",
    "## Visualización multivariada (≥3 variables)\n",
    "Para **P3**, incorporamos una tercera variable (p. ej., **sulphates** como tamaño del marcador) en la relación **alcohol–volatile acidity** para diagnosticar patrones conjuntos.\n"
   ]
  },
  {
   "cell_type": "code",
   "execution_count": null,
   "id": "4d01c020",
   "metadata": {},
   "outputs": [],
   "source": [
    "\n",
    "# Scatter 2D con tamaño representando sulphates\n",
    "plt.figure(figsize=(6,4))\n",
    "if set([\"alcohol\",\"volatile acidity\",\"sulphates\"]).issubset(df.columns):\n",
    "    sizes = (df[\"sulphates\"] - df[\"sulphates\"].min() + 1) * 20  # escala simple para tamaño\n",
    "    plt.scatter(df[\"alcohol\"], df[\"volatile acidity\"], s=sizes)\n",
    "    plt.xlabel(\"alcohol\")\n",
    "    plt.ylabel(\"volatile acidity\")\n",
    "    plt.title(\"Alcohol vs Volatile Acidity (tamaño ~ sulphates)\")\n",
    "    plt.show()\n",
    "else:\n",
    "    print(\"Columnas requeridas no disponibles para el gráfico multivariado.\")\n"
   ]
  },
  {
   "cell_type": "markdown",
   "id": "6651b99d",
   "metadata": {},
   "source": [
    "\n",
    "**Interpretación (multivariado).**  \n",
    "Si los vinos con **alcohol** alto y **acidez volátil** baja presentan **mayores sulphates** (tamaños mayores) y se corresponden con **mejor quality** (contrastable en cortes por calidad), esto sugiere que combinaciones de variables explican mejor la variabilidad (**H4**).\n"
   ]
  },
  {
   "cell_type": "markdown",
   "id": "29b78d0c",
   "metadata": {},
   "source": [
    "\n",
    "## Matriz de correlaciones\n",
    "Como complemento, una vista global de correlaciones lineales entre variables numéricas.\n"
   ]
  },
  {
   "cell_type": "code",
   "execution_count": null,
   "id": "daaad582",
   "metadata": {},
   "outputs": [],
   "source": [
    "\n",
    "num_df = df.select_dtypes(include=[np.number])\n",
    "corr = num_df.corr()\n",
    "\n",
    "plt.figure(figsize=(8,6))\n",
    "im = plt.imshow(corr, aspect='auto')\n",
    "plt.colorbar(im, fraction=0.046, pad=0.04)\n",
    "plt.xticks(range(len(corr.columns)), corr.columns, rotation=90)\n",
    "plt.yticks(range(len(corr.columns)), corr.columns)\n",
    "plt.title(\"Matriz de correlaciones (Pearson)\")\n",
    "plt.tight_layout()\n",
    "plt.show()\n",
    "\n",
    "# Correlaciones clave con quality\n",
    "if \"quality\" in num_df.columns:\n",
    "    print(corr[\"quality\"].sort_values(ascending=False))\n"
   ]
  },
  {
   "cell_type": "markdown",
   "id": "c9c651f4",
   "metadata": {},
   "source": [
    "\n",
    "## Valores perdidos (P4) y nota sobre outliers\n",
    "- **Valores perdidos** ya identificados arriba (tabla de ausentes). Si se detectan, se propone **imputación** simple (media/mediana/moda) o **eliminación** selectiva según impacto y proporción.  \n",
    "- **Outliers:** se recomienda inspección con **boxplots** (ya incluidos) y, de ser necesario, *winsorización* o transformaciones (p. ej., log) antes de modelado.\n"
   ]
  },
  {
   "cell_type": "markdown",
   "id": "9382296a",
   "metadata": {},
   "source": [
    "\n",
    "## Vinculación de resultados con preguntas/hipótesis\n",
    "- **P1 / Univariado:** histogramas describen la **distribución** y **dispersión** (media, mediana, IQR), base para entender rangos razonables.  \n",
    "- **P2 / Bivariado:** dispersión y boxplots permiten evaluar **H1** (alcohol↑ → quality↑) y **H2** (volatile acidity↑ → quality↓).  \n",
    "- **P3 / Multivariado:** el uso de **tamaño** (sulphates) añade una tercera dimensión que ayuda a interpretar clústeres o gradientes conjuntos (**H4**).  \n",
    "- **P4 / Calidad de datos:** la tabla de ausentes guía decisiones de **limpieza** antes de pasar a selección de variables o modelos.\n"
   ]
  },
  {
   "cell_type": "markdown",
   "id": "e5adf4c6",
   "metadata": {},
   "source": [
    "\n",
    "## Conclusiones y próximos pasos\n",
    "El EDA sugiere asociaciones **coherentes** con el conocimiento de dominio: **alcohol** tiende a asociarse positivamente con **quality**, mientras que **acidez volátil** lo haría negativamente. La inspección multivariada indica que combinaciones de atributos (p. ej., **alcohol–acidez volátil–sulphates**) aportan diagnóstico adicional.  \n",
    "Como siguientes pasos dentro del **modelo analítico**: (i) consolidar tratamiento de **nulos/outliers**, (ii) explorar **correlaciones** para evitar multicolinealidad, (iii) preparar datos (escalado/codificación) y (iv) avanzar a **modelos supervisados** (clasificación/regresión) con **validación cruzada** y métricas adecuadas.\n"
   ]
  }
 ],
 "metadata": {
  "kernelspec": {
   "display_name": "Python 3",
   "language": "python",
   "name": "python3"
  },
  "language_info": {
   "name": "python",
   "version": "3.13.5"
  }
 },
 "nbformat": 4,
 "nbformat_minor": 5
}
