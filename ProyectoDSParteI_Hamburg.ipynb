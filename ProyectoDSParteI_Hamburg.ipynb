{
 "cells": [
  {
   "cell_type": "markdown",
   "id": "75d805a7",
   "metadata": {},
   "source": [
    "# ProyectoDSParteI_Hamburg"
   ]
  },
  {
   "cell_type": "markdown",
   "id": "809c4264",
   "metadata": {},
   "source": [
    "\n",
    "## Abstract\n",
    "\n",
    "Este proyecto realiza un Análisis Exploratorio de Datos (EDA) sobre canciones populares en Spotify (“Top Hits 2000–2019”), utilizando un archivo **`songs_normalize.csv`** ubicado en la misma carpeta del notebook. El objetivo es construir una narrativa descriptiva inicial, formular preguntas e hipótesis y responderlas con resúmenes numéricos y visualizaciones univariadas, bivariadas y multivariadas. El foco se limita estrictamente a las herramientas y conceptos vistos en clase: **Pandas** para carga/limpieza ligera y cálculo de resúmenes, **NumPy** cuando se requiera soporte numérico básico, **Matplotlib/Seaborn** para visualizaciones, y **estadística descriptiva** (medidas de tendencia central, dispersión, distribuciones, correlación y lectura de boxplots).\n",
    "\n",
    "El dataset incluye variables numéricas habituales en audio (por ejemplo: *danceability*, *energy*, *loudness*, *speechiness*, *acousticness*, *instrumentalness*, *liveness*, *valence*, *tempo*, *duration_ms*) y metadatos como *year*, *artist* o *track*. Las preguntas guía son: **(P1)** ¿qué características de audio se asocian con la popularidad? **(P2)** ¿existen combinaciones de energía y valencia que distingan patrones de popularidad? **(P3)** ¿la duración, el tempo o la energía cambian su relación con la popularidad a lo largo de los años?\n",
    "\n",
    "Hipótesis: **(H1)** *danceability* y *energy* se asocian positivamente con *popularity*; **(H2)** *valence* elevada (carácter “positivo” de la canción) se relaciona con mayor *popularity*; **(H3)** *loudness* y *tempo* muestran asociaciones moderadas con *popularity*; **(H4)** variables fuertemente estructurales entre sí (p. ej., *loudness* con *energy*) reflejan relaciones de producción más que de recepción del público. Para contrastarlas se emplean histogramas y boxplots (univariado/por grupos), gráficos de dispersión con codificación por color/tamaño (multivariado simple) y un mapa de correlaciones entre variables numéricas. También se cuantifican **valores ausentes**.\n",
    "\n",
    "Los hallazgos esperados incluyen: asociaciones positivas de *danceability* y *energy* con *popularity*; relación entre *valence* y popularidad dependiente del período; y fuertes vínculos entre pares técnicos como *loudness–energy*. Esta lectura descriptiva prepara etapas futuras (no implementadas aquí) como modelos supervisados básicos, manteniendo el énfasis en **interpretabilidad**, **buenas prácticas visuales** y **trazabilidad** de acuerdo con lo visto en el curso.\n"
   ]
  },
  {
   "cell_type": "markdown",
   "id": "c38f0b82",
   "metadata": {},
   "source": [
    "\n",
    "## Preguntas e hipótesis\n",
    "\n",
    "**P1.** ¿Características de audio como *danceability* o *energy* se asocian con la popularidad?  \n",
    "**H1.** La relación con *popularity* es positiva.\n",
    "\n",
    "**P2.** ¿El “carácter positivo” (*valence*) influye en la popularidad?  \n",
    "**H2.** Asociación positiva, al menos moderada.\n",
    "\n",
    "**P3.** ¿Tempo, duración o energía cambian su relación con la popularidad según el año?  \n",
    "**H3.** Efectos diferenciados por período.\n",
    "\n",
    "**P4.** ¿Existen relaciones fuertes entre variables técnicas (p. ej., *loudness–energy*)?  \n",
    "**H4.** Correlación alta entre ciertas parejas técnicas.\n"
   ]
  },
  {
   "cell_type": "markdown",
   "id": "441e8480",
   "metadata": {},
   "source": [
    "## Carga de datos"
   ]
  },
  {
   "cell_type": "code",
   "execution_count": null,
   "id": "5e448c2a",
   "metadata": {},
   "outputs": [],
   "source": [
    "\n",
    "import pandas as pd\n",
    "import numpy as np\n",
    "import matplotlib.pyplot as plt\n",
    "import seaborn as sns\n",
    "\n",
    "sns.set_theme(style=\"whitegrid\")\n",
    "\n",
    "df = pd.read_csv(\"songs_normalize.csv\")\n",
    "df.shape\n"
   ]
  },
  {
   "cell_type": "markdown",
   "id": "e8c00416",
   "metadata": {},
   "source": [
    "## Exploración inicial y valores ausentes"
   ]
  },
  {
   "cell_type": "code",
   "execution_count": null,
   "id": "162faeef",
   "metadata": {},
   "outputs": [],
   "source": [
    "\n",
    "df.head()\n"
   ]
  },
  {
   "cell_type": "code",
   "execution_count": null,
   "id": "d00ab0fc",
   "metadata": {},
   "outputs": [],
   "source": [
    "\n",
    "df.dtypes.to_frame(\"dtype\").T\n"
   ]
  },
  {
   "cell_type": "code",
   "execution_count": null,
   "id": "50243ec2",
   "metadata": {},
   "outputs": [],
   "source": [
    "\n",
    "na = df.isna().sum().sort_values(ascending=False).to_frame(\"faltantes\")\n",
    "na.T\n"
   ]
  },
  {
   "cell_type": "markdown",
   "id": "c19e862e",
   "metadata": {},
   "source": [
    "## Resúmenes numéricos"
   ]
  },
  {
   "cell_type": "code",
   "execution_count": null,
   "id": "8ead6cc6",
   "metadata": {},
   "outputs": [],
   "source": [
    "\n",
    "desc = df.describe().T\n",
    "desc\n"
   ]
  },
  {
   "cell_type": "markdown",
   "id": "c06b80ab",
   "metadata": {},
   "source": [
    "## Selección de variables"
   ]
  },
  {
   "cell_type": "code",
   "execution_count": null,
   "id": "1d5e056c",
   "metadata": {},
   "outputs": [],
   "source": [
    "\n",
    "candidatas = [\n",
    "    \"popularity\",\"danceability\",\"energy\",\"loudness\",\"speechiness\",\n",
    "    \"acousticness\",\"instrumentalness\",\"liveness\",\"valence\",\"tempo\",\n",
    "    \"duration_ms\",\"year\"\n",
    "]\n",
    "num_cols = [c for c in candidatas if c in df.columns]\n",
    "num_cols\n"
   ]
  },
  {
   "cell_type": "markdown",
   "id": "46115e01",
   "metadata": {},
   "source": [
    "## Visualizaciones univariadas"
   ]
  },
  {
   "cell_type": "code",
   "execution_count": null,
   "id": "55989795",
   "metadata": {},
   "outputs": [],
   "source": [
    "\n",
    "cols_plot = [c for c in [\"popularity\",\"danceability\",\"energy\",\"valence\",\"tempo\"] if c in num_cols]\n",
    "n = len(cols_plot)\n",
    "rows = (n + 2) // 3\n",
    "fig, axs = plt.subplots(rows, 3, figsize=(12, 4*rows))\n",
    "axs = axs.ravel()\n",
    "for i, c in enumerate(cols_plot):\n",
    "    sns.histplot(df[c], kde=True, ax=axs[i])\n",
    "    axs[i].set_title(c)\n",
    "for j in range(i+1, rows*3):\n",
    "    fig.delaxes(axs[j])\n",
    "plt.tight_layout()\n",
    "plt.show()\n"
   ]
  },
  {
   "cell_type": "markdown",
   "id": "49ebdf56",
   "metadata": {},
   "source": [
    "## Boxplots por grupos (año binned)"
   ]
  },
  {
   "cell_type": "code",
   "execution_count": null,
   "id": "fad32826",
   "metadata": {},
   "outputs": [],
   "source": [
    "\n",
    "if \"year\" in num_cols and \"popularity\" in num_cols:\n",
    "    bins = pd.cut(df[\"year\"], bins=[1999,2004,2009,2014,2019], labels=[\"2000-04\",\"2005-09\",\"2010-14\",\"2015-19\"])\n",
    "    plt.figure(figsize=(8,4))\n",
    "    sns.boxplot(x=bins, y=df[\"popularity\"])\n",
    "    plt.xlabel(\"Periodo\")\n",
    "    plt.ylabel(\"popularity\")\n",
    "    plt.title(\"Popularidad por período\")\n",
    "    plt.tight_layout()\n",
    "    plt.show()\n"
   ]
  },
  {
   "cell_type": "markdown",
   "id": "183b5547",
   "metadata": {},
   "source": [
    "## Visualizaciones bivariadas y multivariadas"
   ]
  },
  {
   "cell_type": "code",
   "execution_count": null,
   "id": "03682376",
   "metadata": {},
   "outputs": [],
   "source": [
    "\n",
    "if set([\"danceability\",\"energy\",\"popularity\"]).issubset(df.columns):\n",
    "    plt.figure(figsize=(6,4))\n",
    "    sns.scatterplot(data=df, x=\"danceability\", y=\"energy\", hue=\"popularity\", alpha=0.7, legend=False)\n",
    "    plt.title(\"Danceability vs Energy (color: popularity)\")\n",
    "    plt.tight_layout()\n",
    "    plt.show()\n"
   ]
  },
  {
   "cell_type": "code",
   "execution_count": null,
   "id": "ec34a67b",
   "metadata": {},
   "outputs": [],
   "source": [
    "\n",
    "cands = [c for c in [\"tempo\",\"duration_ms\"] if c in df.columns]\n",
    "size_var = cands[0] if cands else None\n",
    "if size_var and set([\"valence\",\"energy\",\"popularity\",size_var]).issubset(df.columns):\n",
    "    plt.figure(figsize=(7,5))\n",
    "    sns.scatterplot(data=df, x=\"valence\", y=\"energy\", hue=\"popularity\", size=size_var, sizes=(20,200), alpha=0.75)\n",
    "    plt.title(f\"Valence vs Energy (color: popularity, tamaño: {size_var})\")\n",
    "    plt.legend(bbox_to_anchor=(1.05, 1), loc=\"upper left\", borderaxespad=0.0)\n",
    "    plt.tight_layout()\n",
    "    plt.show()\n"
   ]
  },
  {
   "cell_type": "markdown",
   "id": "49be4116",
   "metadata": {},
   "source": [
    "## Mapa de correlaciones"
   ]
  },
  {
   "cell_type": "code",
   "execution_count": null,
   "id": "4aa26b55",
   "metadata": {},
   "outputs": [],
   "source": [
    "\n",
    "corr = df[num_cols].corr(numeric_only=True)\n",
    "plt.figure(figsize=(10,8))\n",
    "sns.heatmap(corr, cmap=\"RdBu_r\", center=0)\n",
    "plt.title(\"Correlaciones\")\n",
    "plt.tight_layout()\n",
    "plt.show()\n",
    "if \"popularity\" in corr.columns:\n",
    "    corr[\"popularity\"].sort_values(ascending=False)\n"
   ]
  },
  {
   "cell_type": "markdown",
   "id": "6a1d2123",
   "metadata": {},
   "source": [
    "## Detección visual de outliers"
   ]
  },
  {
   "cell_type": "code",
   "execution_count": null,
   "id": "048fead0",
   "metadata": {},
   "outputs": [],
   "source": [
    "\n",
    "vars_out = [c for c in [\"popularity\",\"danceability\",\"energy\",\"loudness\",\"tempo\"] if c in df.columns]\n",
    "fig, axs = plt.subplots(1, len(vars_out), figsize=(4*len(vars_out), 4))\n",
    "if len(vars_out) == 1:\n",
    "    axs = [axs]\n",
    "for i, c in enumerate(vars_out):\n",
    "    sns.boxplot(y=df[c], ax=axs[i])\n",
    "    axs[i].set_title(c)\n",
    "plt.tight_layout()\n",
    "plt.show()\n"
   ]
  },
  {
   "cell_type": "markdown",
   "id": "e4019aad",
   "metadata": {},
   "source": [
    "## Interpretaciones"
   ]
  },
  {
   "cell_type": "markdown",
   "id": "f10b7820",
   "metadata": {},
   "source": [
    "\n",
    "- No se presentan valores ausentes relevantes si la tabla de faltantes es cero; en caso contrario, se recomienda imputación simple según lo visto (media/mediana/moda) o eliminación si el volumen es marginal.\n",
    "- Las distribuciones univariadas permiten observar sesgos y dispersión en variables como *popularity*, *danceability*, *energy*, *valence* y *tempo*.\n",
    "- Los boxplots por período sugieren posibles cambios en la popularidad a lo largo del tiempo.\n",
    "- Los dispersogramas multivariados apoyan **H1** y **H2** cuando se observa que mayor *danceability*/*energy* y *valence* se asocian con mayor *popularity*.\n",
    "- El mapa de correlaciones ayuda a priorizar variables con mayor asociación con *popularity* y a identificar pares técnicos fuertemente relacionados.\n",
    "- Los boxplots permiten una detección visual de outliers coherente con lo visto en clase.\n"
   ]
  },
  {
   "cell_type": "markdown",
   "id": "f2afbd8e",
   "metadata": {},
   "source": [
    "## Conclusiones"
   ]
  },
  {
   "cell_type": "markdown",
   "id": "1bdbeb66",
   "metadata": {},
   "source": [
    "\n",
    "1. **Popularidad y rasgos de audio.** Se observa, de forma descriptiva, que características como *danceability* y *energy* suelen asociarse positivamente con *popularity*. La relación de *valence* con la popularidad puede depender del período.\n",
    "2. **Patrones por período.** Los resúmenes por grupos de años sugieren cambios en la distribución de *popularity*, útiles para hipótesis temporales.\n",
    "3. **Relaciones técnicas.** Pares como *loudness–energy* muestran asociaciones altas, más vinculadas a producción que a recepción.\n",
    "4. **Valores ausentes y outliers.** Se identifican faltantes si los hubiese y outliers de forma visual. Antes de modelar, se recomienda imputación simple y verificación de robustez.\n",
    "5. **Siguientes pasos.** Profundizar en segmentaciones (por año o género si existe la columna), y eventualmente probar modelos supervisados básicos con validación, manteniendo las prácticas vistas.\n"
   ]
  }
 ],
 "metadata": {},
 "nbformat": 4,
 "nbformat_minor": 5
}
